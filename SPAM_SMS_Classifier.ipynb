{
 "cells": [
  {
   "cell_type": "markdown",
   "id": "7527d9ce",
   "metadata": {},
   "source": [
    "# Spam Classifier : SMS"
   ]
  },
  {
   "cell_type": "markdown",
   "id": "acaa64f2",
   "metadata": {},
   "source": [
    "### Load Libraries :"
   ]
  },
  {
   "cell_type": "code",
   "execution_count": 86,
   "id": "fbd15381",
   "metadata": {},
   "outputs": [],
   "source": [
    "import numpy as np\n",
    "from tensorflow.keras.preprocessing.text import Tokenizer\n",
    "from tensorflow.keras.preprocessing.sequence import pad_sequences\n",
    "from tensorflow.keras.utils import to_categorical\n",
    "from sklearn.model_selection import train_test_split\n",
    "import tqdm\n",
    "from tensorflow.keras.models import Sequential\n",
    "from tensorflow.keras.layers import Embedding, LSTM, Dropout, Dense\n",
    "import matplotlib.pyplot as plt "
   ]
  },
  {
   "cell_type": "markdown",
   "id": "315ca968",
   "metadata": {},
   "source": [
    "### Load Data :"
   ]
  },
  {
   "cell_type": "code",
   "execution_count": 30,
   "id": "3a821de2",
   "metadata": {},
   "outputs": [],
   "source": [
    "def load_data(path):\n",
    "    text, label =[], []\n",
    "    with open(path) as file:\n",
    "        for line in file:\n",
    "            tokens = line.split()\n",
    "            label.append(word2int[tokens[0]])\n",
    "            text.append(' '.join(tokens[1:]))\n",
    "    return [text, label]"
   ]
  },
  {
   "cell_type": "code",
   "execution_count": 31,
   "id": "61fbc428",
   "metadata": {},
   "outputs": [],
   "source": [
    "word2int = {'ham':0, \"spam\":1}\n",
    "int2word = {0:'ham', 1:\"spam\"}\n",
    "\n",
    "X,y = load_data(\"C:/Users/ASUS/Downloads/Spam_or_not/data\")"
   ]
  },
  {
   "cell_type": "code",
   "execution_count": 32,
   "id": "bf151ae8",
   "metadata": {},
   "outputs": [],
   "source": [
    "tokenizer = Tokenizer()\n",
    "tokenizer.fit_on_texts(X)\n",
    "X_digit = tokenizer.texts_to_sequences(X)\n",
    "X_digit = np.array(X_digit, dtype=object)\n",
    "y = np.array(y)"
   ]
  },
  {
   "cell_type": "code",
   "execution_count": 33,
   "id": "b336369f",
   "metadata": {},
   "outputs": [
    {
     "data": {
      "text/plain": [
       "(5574,)"
      ]
     },
     "execution_count": 33,
     "metadata": {},
     "output_type": "execute_result"
    }
   ],
   "source": [
    "y.shape"
   ]
  },
  {
   "cell_type": "code",
   "execution_count": 34,
   "id": "fb8f8dc8",
   "metadata": {},
   "outputs": [
    {
     "data": {
      "text/plain": [
       "array([   0,    0,    0,    0,    0,    0,    0,    0,    0,    0,    0,\n",
       "          0,    0,    0,    0,    0,    0,    0,    0,    0,    0,    0,\n",
       "          0,    0,    0,    0,    0,    0,    0,    0,    0,    0,    0,\n",
       "          0,    0,    0,    0,    0,    0,    0,    0,    0,    0,    0,\n",
       "          0,    0,    0,    0,    0,    0,    0,    0,    0,    0,    0,\n",
       "          0,    0,    0,    0,    0,    0,    0,    0,    0,    0,    0,\n",
       "          0,  799,  129,   67, 1691,  145,  108,  158, 1946,   21,    7,\n",
       "         38,  339,   88,  903,   55,  115,  415,    3,   44,   12,   14,\n",
       "         85, 1947,   46,  366,  961, 4438,    2,   68,  324,  232,    2,\n",
       "       2999])"
      ]
     },
     "execution_count": 34,
     "metadata": {},
     "output_type": "execute_result"
    }
   ],
   "source": [
    "sen_length = 100\n",
    "X_digit = pad_sequences(X_digit,maxlen= sen_length)\n",
    "X_digit[5]"
   ]
  },
  {
   "cell_type": "code",
   "execution_count": 36,
   "id": "0bb49eb1",
   "metadata": {},
   "outputs": [],
   "source": [
    "y = to_categorical(y)"
   ]
  },
  {
   "cell_type": "markdown",
   "id": "6b06fbb8",
   "metadata": {},
   "source": [
    "### Split and Shuffle:"
   ]
  },
  {
   "cell_type": "code",
   "execution_count": 42,
   "id": "a4cd020b",
   "metadata": {},
   "outputs": [
    {
     "name": "stdout",
     "output_type": "stream",
     "text": [
      "X_train: (4180, 100)\n",
      "X_test: (1394, 100)\n",
      "y_train: (4180, 2)\n",
      "y_test: (1394, 2)\n"
     ]
    }
   ],
   "source": [
    "X_train, X_test, y_train, y_test = train_test_split(X_digit, y, test_size = 0.25, random_state = 7)\n",
    "\n",
    "print(f\"X_train: {X_train.shape}\")\n",
    "print(f\"X_test: {X_test.shape}\")\n",
    "print(f\"y_train: {y_train.shape}\")\n",
    "print(f\"y_test: {y_test.shape}\")"
   ]
  },
  {
   "cell_type": "markdown",
   "id": "5bb78a53",
   "metadata": {},
   "source": [
    "### Generate Embedding"
   ]
  },
  {
   "cell_type": "code",
   "execution_count": 73,
   "id": "6e107661",
   "metadata": {},
   "outputs": [],
   "source": [
    "def generate_Embedding(tokenizer,dim):\n",
    "    embedding = {}\n",
    "    with open(f\"C:/Users/ASUS/Downloads/Spam_or_not/glove.6B.{dim}d.txt\",encoding='utf8') as file:\n",
    "        for line in tqdm.tqdm(file, \"Reading the Glove file\"):\n",
    "            tokens = line.split()\n",
    "            word = tokens[0]\n",
    "            vector = np.array(tokens[1:], dtype = 'float32')\n",
    "            embedding[word] = vector\n",
    "    wordI = tokenizer.word_index\n",
    "    embedding_matrix = np.zeros((len(wordI)+1,dim))\n",
    "\n",
    "    for word , index in wordI.items():\n",
    "        vector = embedding.get(word)\n",
    "        if vector is not None:\n",
    "            embedding_matrix[index] = vector\n",
    "            \n",
    "    return embedding_matrix"
   ]
  },
  {
   "cell_type": "code",
   "execution_count": 74,
   "id": "a968aacc",
   "metadata": {},
   "outputs": [
    {
     "name": "stderr",
     "output_type": "stream",
     "text": [
      "Reading the Glove file: 400000it [00:09, 40080.93it/s]\n"
     ]
    }
   ],
   "source": [
    "embedding_matrix = generate_Embedding(tokenizer,100)"
   ]
  },
  {
   "cell_type": "code",
   "execution_count": 72,
   "id": "e593f0db",
   "metadata": {},
   "outputs": [
    {
     "data": {
      "text/plain": [
       "array([-0.078894  ,  0.46160001,  0.57779002, -0.71636999, -0.13121   ,\n",
       "        0.41859999, -0.29155999,  0.52006   ,  0.089986  , -0.35062   ,\n",
       "        0.51754999,  0.51998001,  0.15218   ,  0.41485   , -0.12377   ,\n",
       "       -0.37222001,  0.0273    ,  0.75673002, -0.8739    ,  0.58934999,\n",
       "        0.46662   ,  0.62918001,  0.092603  , -0.012868  , -0.015169  ,\n",
       "        0.25567001, -0.43024999, -0.77667999,  0.71449   , -0.38339999,\n",
       "       -0.69638002,  0.23522   ,  0.11396   ,  0.02778   ,  0.071357  ,\n",
       "        0.87409002, -0.12809999,  0.063576  ,  0.067867  , -0.50181001,\n",
       "       -0.28523001, -0.072536  , -0.50738001, -0.69139999, -0.53579003,\n",
       "       -0.11361   , -0.38234001, -0.12414   ,  0.011214  , -1.16219997,\n",
       "        0.037057  , -0.18494999,  0.01416   ,  0.87193   , -0.097309  ,\n",
       "       -2.35649991, -0.14554   ,  0.28275001,  2.00530005,  0.23439001,\n",
       "       -0.38297999,  0.69538999, -0.44916001, -0.094157  ,  0.90526998,\n",
       "        0.65763998,  0.27627999,  0.30688   , -0.57780999, -0.22987001,\n",
       "       -0.083043  , -0.57235998, -0.29899999, -0.81111997,  0.039752  ,\n",
       "       -0.05681   , -0.48879001, -0.18091001, -0.28152001, -0.20558999,\n",
       "        0.4932    , -0.033999  , -0.53139001, -0.28297001, -1.44749999,\n",
       "       -0.18685   ,  0.091177  ,  0.11454   , -0.28167999, -0.33565   ,\n",
       "       -0.31663001, -0.1089    ,  0.10111   , -0.23737   , -0.64955002,\n",
       "       -0.26800001,  0.35095999,  0.26352   ,  0.59397   ,  0.26741001])"
      ]
     },
     "execution_count": 72,
     "metadata": {},
     "output_type": "execute_result"
    }
   ],
   "source": [
    "embedding_matrix[tokenizer.word_index['go']]"
   ]
  },
  {
   "cell_type": "markdown",
   "id": "ac382664",
   "metadata": {},
   "source": [
    "### Build LSTM model"
   ]
  },
  {
   "cell_type": "code",
   "execution_count": 77,
   "id": "d4eb38a2",
   "metadata": {},
   "outputs": [],
   "source": [
    "def build_model(embedding_matrix, lstm_units):\n",
    "    model = Sequential()\n",
    "    model.add(Embedding(embedding_matrix.shape[0],embedding_matrix.shape[1],\n",
    "                       weights = [embedding_matrix],\n",
    "                       trainable = False,\n",
    "                       input_length = sen_length))\n",
    "    model.add(LSTM(lstm_units,recurrent_dropout=0.2))\n",
    "    model.add(Dropout(0.3))\n",
    "    model.add(Dense(2,activation='softmax'))\n",
    "    \n",
    "    model.compile(optimizer='adam', loss = 'categorical_crossentropy', metrics=['accuracy'])\n",
    "    model.summary()\n",
    "    \n",
    "    return model"
   ]
  },
  {
   "cell_type": "code",
   "execution_count": 78,
   "id": "db5065e5",
   "metadata": {},
   "outputs": [
    {
     "name": "stdout",
     "output_type": "stream",
     "text": [
      "Model: \"sequential\"\n",
      "_________________________________________________________________\n",
      " Layer (type)                Output Shape              Param #   \n",
      "=================================================================\n",
      " embedding (Embedding)       (None, 100, 100)          901300    \n",
      "                                                                 \n",
      " lstm (LSTM)                 (None, 128)               117248    \n",
      "                                                                 \n",
      " dropout (Dropout)           (None, 128)               0         \n",
      "                                                                 \n",
      " dense (Dense)               (None, 2)                 258       \n",
      "                                                                 \n",
      "=================================================================\n",
      "Total params: 1,018,806\n",
      "Trainable params: 117,506\n",
      "Non-trainable params: 901,300\n",
      "_________________________________________________________________\n"
     ]
    }
   ],
   "source": [
    "model = build_model(embedding_matrix, 128)"
   ]
  },
  {
   "cell_type": "markdown",
   "id": "fbb63af7",
   "metadata": {},
   "source": [
    "### Train The Mode:"
   ]
  },
  {
   "cell_type": "code",
   "execution_count": 79,
   "id": "d9981ab6",
   "metadata": {},
   "outputs": [
    {
     "name": "stdout",
     "output_type": "stream",
     "text": [
      "Epoch 1/10\n",
      "66/66 [==============================] - 13s 170ms/step - loss: 0.1941 - accuracy: 0.9239 - val_loss: 0.1032 - val_accuracy: 0.9663\n",
      "Epoch 2/10\n",
      "66/66 [==============================] - 11s 163ms/step - loss: 0.0782 - accuracy: 0.9761 - val_loss: 0.0846 - val_accuracy: 0.9692\n",
      "Epoch 3/10\n",
      "66/66 [==============================] - 11s 172ms/step - loss: 0.0683 - accuracy: 0.9766 - val_loss: 0.0737 - val_accuracy: 0.9792\n",
      "Epoch 4/10\n",
      "66/66 [==============================] - 11s 168ms/step - loss: 0.0489 - accuracy: 0.9844 - val_loss: 0.0671 - val_accuracy: 0.9778\n",
      "Epoch 5/10\n",
      "66/66 [==============================] - 11s 166ms/step - loss: 0.0405 - accuracy: 0.9871 - val_loss: 0.0707 - val_accuracy: 0.9756\n",
      "Epoch 6/10\n",
      "66/66 [==============================] - 11s 167ms/step - loss: 0.0348 - accuracy: 0.9900 - val_loss: 0.0801 - val_accuracy: 0.9770\n",
      "Epoch 7/10\n",
      "66/66 [==============================] - 11s 167ms/step - loss: 0.0438 - accuracy: 0.9868 - val_loss: 0.0741 - val_accuracy: 0.9756\n",
      "Epoch 8/10\n",
      "66/66 [==============================] - 11s 171ms/step - loss: 0.0288 - accuracy: 0.9919 - val_loss: 0.0953 - val_accuracy: 0.9720\n",
      "Epoch 9/10\n",
      "66/66 [==============================] - 11s 171ms/step - loss: 0.0289 - accuracy: 0.9911 - val_loss: 0.0637 - val_accuracy: 0.9821\n",
      "Epoch 10/10\n",
      "66/66 [==============================] - 11s 170ms/step - loss: 0.0228 - accuracy: 0.9938 - val_loss: 0.0602 - val_accuracy: 0.9828\n"
     ]
    }
   ],
   "source": [
    "history= model.fit(X_train, y_train, validation_data =(X_test,y_test),batch_size=64, epochs=10, verbose=1)"
   ]
  },
  {
   "cell_type": "markdown",
   "id": "a19a3a7f",
   "metadata": {},
   "source": [
    "### Report The Results:"
   ]
  },
  {
   "cell_type": "code",
   "execution_count": 83,
   "id": "ff09b5b7",
   "metadata": {},
   "outputs": [
    {
     "data": {
      "text/plain": [
       "dict_keys(['loss', 'accuracy', 'val_loss', 'val_accuracy'])"
      ]
     },
     "execution_count": 83,
     "metadata": {},
     "output_type": "execute_result"
    }
   ],
   "source": [
    "report = history.history\n",
    "report.keys()"
   ]
  },
  {
   "cell_type": "code",
   "execution_count": 93,
   "id": "c6a5b363",
   "metadata": {},
   "outputs": [
    {
     "data": {
      "image/png": "[encoded data removed]",
      "text/plain": [
       "<Figure size 640x480 with 1 Axes>"
      ]
     },
     "metadata": {},
     "output_type": "display_data"
    }
   ],
   "source": [
    "acc = report['accuracy']\n",
    "val_acc = report['val_accuracy']\n",
    "\n",
    "epochs =range(1,11)\n",
    "plt.plot(epochs, acc, 'r',label = 'Traning Acc' )\n",
    "plt.plot(epochs, val_acc, 'g', label = 'Validation Acc')\n",
    "plt.title('Training & Validation Accuracy')\n",
    "plt.xlabel(\"Epochs\")\n",
    "plt.ylabel('Accuracy')\n",
    "plt.legend(loc = 'lower right');"
   ]
  },
  {
   "cell_type": "code",
   "execution_count": 97,
   "id": "bfa62ae6",
   "metadata": {},
   "outputs": [
    {
     "data": {
      "image/png": "[encoded data removed]",
      "text/plain": [
       "<Figure size 640x480 with 1 Axes>"
      ]
     },
     "metadata": {},
     "output_type": "display_data"
    }
   ],
   "source": [
    "loss = report['loss']\n",
    "val_loss = report['val_loss']\n",
    "\n",
    "epochs =range(1,11)\n",
    "plt.plot(epochs, loss, 'r',label = 'Training Loss' )\n",
    "plt.plot(epochs, val_loss, 'g', label = 'Validation Loss')\n",
    "plt.title('Training & Validation Loss')\n",
    "plt.xlabel(\"Epochs\")\n",
    "plt.ylabel('Accuracy')\n",
    "plt.legend();"
   ]
  },
  {
   "cell_type": "code",
   "execution_count": 99,
   "id": "40ddab95",
   "metadata": {},
   "outputs": [
    {
     "name": "stdout",
     "output_type": "stream",
     "text": [
      "44/44 [==============================] - 1s 16ms/step - loss: 0.0602 - accuracy: 0.9828\n",
      ". Accuracy :98.28%\n"
     ]
    }
   ],
   "source": [
    "result = model.evaluate(X_test, y_test)\n",
    "print(f\". Accuracy :{result[1] * 100:.2f}%\")"
   ]
  },
  {
   "cell_type": "markdown",
   "id": "44d9d7e5",
   "metadata": {},
   "source": [
    "### Testing"
   ]
  },
  {
   "cell_type": "code",
   "execution_count": 100,
   "id": "ff1d049c",
   "metadata": {},
   "outputs": [],
   "source": [
    "def prediction(model, sms):\n",
    "    seq = tokenizer.texts_to_sequences([sms])\n",
    "    seq = pad_sequences(seq, maxlen = sen_length)\n",
    "    \n",
    "    predict = model.predict(seq)[0]\n",
    "    \n",
    "    return int2word[np.argmax(predict)] "
   ]
  },
  {
   "cell_type": "code",
   "execution_count": 107,
   "id": "b0cdbf7f",
   "metadata": {},
   "outputs": [
    {
     "name": "stdout",
     "output_type": "stream",
     "text": [
      "1/1 [==============================] - 0s 9ms/step\n"
     ]
    },
    {
     "data": {
      "text/plain": [
       "'ham'"
      ]
     },
     "execution_count": 107,
     "metadata": {},
     "output_type": "execute_result"
    }
   ],
   "source": [
    "prediction(model, 'I have been searching for the right words to thank you for this breather. I promise i wont take your help for granted and will fulfil my promise. You have been wonderful and a blessing at all times.')"
   ]
  },
  {
   "cell_type": "code",
   "execution_count": null,
   "id": "a4211b8b",
   "metadata": {},
   "outputs": [],
   "source": []
  }
 ],
 "metadata": {
  "kernelspec": {
   "display_name": "Python 3 (ipykernel)",
   "language": "python",
   "name": "python3"
  },
  "language_info": {
   "codemirror_mode": {
    "name": "ipython",
    "version": 3
   },
   "file_extension": ".py",
   "mimetype": "text/x-python",
   "name": "python",
   "nbconvert_exporter": "python",
   "pygments_lexer": "ipython3",
   "version": "3.9.13"
  }
 },
 "nbformat": 4,
 "nbformat_minor": 5
}
